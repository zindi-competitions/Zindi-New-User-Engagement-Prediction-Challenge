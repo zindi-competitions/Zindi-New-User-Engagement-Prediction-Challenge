{
 "cells": [
  {
   "cell_type": "markdown",
   "id": "f2db5141",
   "metadata": {},
   "source": [
    "Zindi is nothing without our users - you are the fuel in the rocket ship, the reason we do what we do. To make sure we are always providing the best possible user experience, we need to know if users will return to Zindi in their second month after signing up. We believe that if a user is constantly active at the start of their Zindi journey, this means that they are seeing value and will stick around. This is a good thing for us and for our users, as an active and healthy community means that we are adding value.\n",
    "\n",
    "The objective of this challenge is to predict if a new user from a selected cohort will engage with Zindi in their second month on the platform. For example, if a user joined in June, will they be active in July?\n",
    "\n",
    "This solution will help us establish and track our performance as a data science community and platform, and make sure that we are best serving the needs of you, our users! Help us make Zindi better for all of you.\n",
    "\n"
   ]
  }
 ],
 "metadata": {
  "kernelspec": {
   "display_name": "Python 3 (ipykernel)",
   "language": "python",
   "name": "python3"
  },
  "language_info": {
   "codemirror_mode": {
    "name": "ipython",
    "version": 3
   },
   "file_extension": ".py",
   "mimetype": "text/x-python",
   "name": "python",
   "nbconvert_exporter": "python",
   "pygments_lexer": "ipython3",
   "version": "3.9.12"
  }
 },
 "nbformat": 4,
 "nbformat_minor": 5
}
